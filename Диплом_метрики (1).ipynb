{
  "nbformat": 4,
  "nbformat_minor": 0,
  "metadata": {
    "colab": {
      "name": "Диплом метрики.ipynb",
      "provenance": [],
      "collapsed_sections": []
    },
    "kernelspec": {
      "name": "python3",
      "display_name": "Python 3"
    },
    "language_info": {
      "name": "python"
    }
  },
  "cells": [
    {
      "cell_type": "code",
      "source": [
        "!pip install pymorphy2\n",
        "!pip install pymorphy2-dicts\n",
        "!pip install DAWG-Python"
      ],
      "metadata": {
        "colab": {
          "base_uri": "https://localhost:8080/"
        },
        "id": "fIiNftq07F76",
        "outputId": "2d3a8845-1a72-4de6-e31d-c4fbd6abcf91"
      },
      "execution_count": null,
      "outputs": [
        {
          "output_type": "stream",
          "name": "stdout",
          "text": [
            "Looking in indexes: https://pypi.org/simple, https://us-python.pkg.dev/colab-wheels/public/simple/\n",
            "Requirement already satisfied: pymorphy2 in /usr/local/lib/python3.7/dist-packages (0.9.1)\n",
            "Requirement already satisfied: docopt>=0.6 in /usr/local/lib/python3.7/dist-packages (from pymorphy2) (0.6.2)\n",
            "Requirement already satisfied: pymorphy2-dicts-ru<3.0,>=2.4 in /usr/local/lib/python3.7/dist-packages (from pymorphy2) (2.4.417127.4579844)\n",
            "Requirement already satisfied: dawg-python>=0.7.1 in /usr/local/lib/python3.7/dist-packages (from pymorphy2) (0.7.2)\n",
            "Looking in indexes: https://pypi.org/simple, https://us-python.pkg.dev/colab-wheels/public/simple/\n",
            "Requirement already satisfied: pymorphy2-dicts in /usr/local/lib/python3.7/dist-packages (2.4.393442.3710985)\n",
            "Looking in indexes: https://pypi.org/simple, https://us-python.pkg.dev/colab-wheels/public/simple/\n",
            "Requirement already satisfied: DAWG-Python in /usr/local/lib/python3.7/dist-packages (0.7.2)\n"
          ]
        }
      ]
    },
    {
      "cell_type": "code",
      "source": [
        "import pandas as pd\n",
        "import nltk\n",
        "from nltk.stem import WordNetLemmatizer \n",
        "import re\n",
        "import pymorphy2\n",
        "from statistics import mean\n",
        "import math"
      ],
      "metadata": {
        "id": "ETr65_iV2ktW"
      },
      "execution_count": null,
      "outputs": []
    },
    {
      "cell_type": "code",
      "source": [
        "lemmatizer = WordNetLemmatizer()\n",
        "nltk.download('wordnet')"
      ],
      "metadata": {
        "colab": {
          "base_uri": "https://localhost:8080/"
        },
        "id": "V9ddOjbjjogE",
        "outputId": "351d102e-39ba-4bd7-f4b2-b56db30da582"
      },
      "execution_count": null,
      "outputs": [
        {
          "output_type": "stream",
          "name": "stdout",
          "text": [
            "[nltk_data] Downloading package wordnet to /root/nltk_data...\n",
            "[nltk_data]   Package wordnet is already up-to-date!\n"
          ]
        },
        {
          "output_type": "execute_result",
          "data": {
            "text/plain": [
              "True"
            ]
          },
          "metadata": {},
          "execution_count": 18
        }
      ]
    },
    {
      "cell_type": "code",
      "source": [
        " morph = pymorphy2.MorphAnalyzer()"
      ],
      "metadata": {
        "id": "_waSr0TsmY5I"
      },
      "execution_count": null,
      "outputs": []
    },
    {
      "cell_type": "code",
      "source": [
        "def read_freq():\n",
        "  global all_freq\n",
        "  all_freq = pd.read_csv('freqrnc2011.csv', sep='\\t')\n",
        "  all_freq['Freq(ipm)']"
      ],
      "metadata": {
        "id": "4WoaeQRRyvJn"
      },
      "execution_count": null,
      "outputs": []
    },
    {
      "cell_type": "code",
      "execution_count": null,
      "metadata": {
        "id": "RfmORD_WwnJ8"
      },
      "outputs": [],
      "source": [
        "def print_text(filename):\n",
        "  file = open(filename).read()\n",
        "  print (file)\n",
        "  return file"
      ]
    },
    {
      "cell_type": "code",
      "source": [
        "def lemmatizing(text):\n",
        "  morph = pymorphy2.MorphAnalyzer()\n",
        "  global par_words\n",
        "  par_words = re.findall(r'\\*PAR:\\t[A-zА-я\\+\\s&\\-\\*\\[\\]\\<:\\>/\\(\\)\\.=x%\\d?!]+\\s+',text)\n",
        "  global lemmatized\n",
        "  global all_rus_words\n",
        "  lemmatized = []\n",
        "  all_rus_words = []\n",
        "  for i in par_words:\n",
        "    rus_words = re.findall(r'[А-я\\-]+',i)\n",
        "    for k in rus_words:\n",
        "      all_rus_words.append(k)\n",
        "  for w in all_rus_words:\n",
        "    lemmatized_word = morph.parse(w)[0].normal_form\n",
        "    lemmatized.append(lemmatized_word)\n",
        "  print(lemmatized)"
      ],
      "metadata": {
        "id": "-dgP1oIf2-a3"
      },
      "execution_count": null,
      "outputs": []
    },
    {
      "cell_type": "markdown",
      "source": [
        "Местоимения личные"
      ],
      "metadata": {
        "id": "NpFfmNUxUWMZ"
      }
    },
    {
      "cell_type": "code",
      "source": [
        "def get_pronouns():\n",
        "  n=0\n",
        "  for w in all_rus_words:\n",
        "    pos_word = morph.parse(w)[0].tag.POS\n",
        "    if pos_word == 'NPRO':\n",
        "      print(w)\n",
        "      n+=1\n",
        "  return n"
      ],
      "metadata": {
        "id": "Xj_IKVlMUs-n"
      },
      "execution_count": null,
      "outputs": []
    },
    {
      "cell_type": "code",
      "source": [
        "def get_percent_pronouns(num_of_pron):\n",
        "  percent = num_of_pron/len(lemmatized)\n",
        "  return percent"
      ],
      "metadata": {
        "id": "eBnx1xWN4PSG"
      },
      "execution_count": null,
      "outputs": []
    },
    {
      "cell_type": "code",
      "source": [
        "def get_pronouns_nouns():\n",
        "  nouns = 0\n",
        "  for w in all_rus_words:\n",
        "    pos_word = morph.parse(w)[0].tag.POS\n",
        "    if pos_word == 'NOUN':\n",
        "      nouns+=1\n",
        "  pr = get_pronouns()\n",
        "  return pr/nouns"
      ],
      "metadata": {
        "id": "07OgAQtq5uJy"
      },
      "execution_count": null,
      "outputs": []
    },
    {
      "cell_type": "markdown",
      "source": [
        "Союзы"
      ],
      "metadata": {
        "id": "KY55Oh3iV_YA"
      }
    },
    {
      "cell_type": "code",
      "source": [
        "def get_conj():\n",
        "  n=0\n",
        "  for w in all_rus_words:\n",
        "    pos_word = morph.parse(w)[0].tag.POS\n",
        "    if pos_word == 'CONJ':\n",
        "      print(w)\n",
        "      n+=1\n",
        "  return n"
      ],
      "metadata": {
        "id": "zHQCABIFV3R4"
      },
      "execution_count": null,
      "outputs": []
    },
    {
      "cell_type": "code",
      "source": [
        "def get_percent_conj(num_of_conj):\n",
        "  percent = num_of_conj/len(lemmatized)\n",
        "  return percent"
      ],
      "metadata": {
        "id": "nH_KiCxc7QU2"
      },
      "execution_count": null,
      "outputs": []
    },
    {
      "cell_type": "markdown",
      "source": [
        "Частотности "
      ],
      "metadata": {
        "id": "Zqmi4X3RVyP2"
      }
    },
    {
      "cell_type": "code",
      "source": [
        "def freq_words():\n",
        "  global freq_for_words\n",
        "  freq_for_words = {}\n",
        "  freq_lemma = list(all_freq['Lemma'])\n",
        "  for i in lemmatized:\n",
        "    if i in freq_lemma:\n",
        "      ind = all_freq.loc[all_freq.isin([i]).any(axis=1)].index[0]\n",
        "      freq_for_words.update({i:all_freq['Freq(ipm)'][ind]})"
      ],
      "metadata": {
        "id": "ExxIlafm70EE"
      },
      "execution_count": null,
      "outputs": []
    },
    {
      "cell_type": "code",
      "source": [
        "def freq_log():\n",
        "  all_log = []\n",
        "  for value in freq_for_words.values():\n",
        "    fr_log = math.log(value)\n",
        "    all_log.append(fr_log)\n",
        "  mean_freq = mean(all_log)\n",
        "  return mean_freq"
      ],
      "metadata": {
        "id": "DZd6fN_C9ORc"
      },
      "execution_count": null,
      "outputs": []
    },
    {
      "cell_type": "markdown",
      "source": [
        "Количество пауз"
      ],
      "metadata": {
        "id": "nmy6wTIgFBgm"
      }
    },
    {
      "cell_type": "code",
      "source": [
        "def pauses(text):\n",
        "  n=0\n",
        "  par_words = re.findall(r'\\*PAR:\\t[A-zА-я\\+\\s&\\-\\*\\[\\]\\<:\\>/\\(\\)\\.=x%\\d?!]+\\s+',text)\n",
        "  for i in par_words:\n",
        "    pauses = re.findall(r'\\([\\d.]+\\)',i)\n",
        "    for i in pauses:\n",
        "      #print(i)\n",
        "      n+=1\n",
        "  return n"
      ],
      "metadata": {
        "id": "YShNHhv__A20"
      },
      "execution_count": null,
      "outputs": []
    },
    {
      "cell_type": "markdown",
      "source": [
        "Использование функций"
      ],
      "metadata": {
        "id": "bNwrCnFDnRC-"
      }
    },
    {
      "cell_type": "code",
      "source": [
        "read_freq()\n",
        "file = print_text('ZV8646.txt')"
      ],
      "metadata": {
        "id": "UAd4Iv8OkFtd"
      },
      "execution_count": null,
      "outputs": []
    },
    {
      "cell_type": "code",
      "source": [
        "pauses(file)"
      ],
      "metadata": {
        "colab": {
          "base_uri": "https://localhost:8080/"
        },
        "id": "HWEcsGSc_jVH",
        "outputId": "e9b26595-b098-4027-d82a-53c991aea702"
      },
      "execution_count": null,
      "outputs": [
        {
          "output_type": "execute_result",
          "data": {
            "text/plain": [
              "12"
            ]
          },
          "metadata": {},
          "execution_count": 369
        }
      ]
    },
    {
      "cell_type": "code",
      "source": [
        "lemmatizing(file)"
      ],
      "metadata": {
        "colab": {
          "base_uri": "https://localhost:8080/"
        },
        "id": "7H_3pbUTmeX-",
        "outputId": "e3231871-5395-4187-978c-3bef2763463a"
      },
      "execution_count": null,
      "outputs": [
        {
          "output_type": "stream",
          "name": "stdout",
          "text": [
            "['это', 'быть', 'в', 'девяносто', 'седьмой', 'год', 'я', 'приехать', 'в', 'москва', 'и', 'у', 'я', 'день', 'рождение', 'быть', 'племянник', 'подарить', 'я', 'подарок', 'и', 'я', 'быть', 'в', 'шок', 'сейчас', 'и', 'он', 'я', 'подарить', 'этот', 'цветок', 'дух', 'ещё', 'стол', 'он', 'я', 'накрыть', 'потому', 'что', 'он', 'быть', 'как', 'бы', 'тут', 'уже', 'и', 'вот', 'я', 'когда', 'приехать', 'вот', 'этот', 'подарок', 'я', 'каждый', 'раз', 'вспоминать', 'когда', 'он', 'я', 'вот', 'это', 'подарить', 'я', 'плакать', 'и', 'он', 'я', 'давать', 'сейчас', 'послать', 'к', 'я', 'я', 'когда', 'прийти', 'там', 'он', 'девушка', 'накрыть', 'на', 'стол', 'всё', 'приготовить', 'вот', 'это', 'я', 'не', 'мочь', 'забыть', 'вот', 'первый', 'подарок', 'от', 'племянник', 'нет', 'просто', 'я', 'приехать', 'и', 'вот', 'у', 'я', 'день', 'рождение', 'да', 'да', 'да', 'да', 'он', 'я', 'сделать', 'такой', 'подарок', 'я', 'плакать', 'я', 'в', 'первый', 'раз', 'подарить', 'цветок', 'в', 'жизнь', 'и', 'ещё', 'дух', 'и', 'ещё', 'часы', 'вот', 'подарить', 'и', 'сколько', 'вы', 'быть', 'год', 'тогда', 'я', 'быть', 'тридцать', 'семь', 'да', 'да', 'да', 'да', 'первый', 'подарок', 'и', 'ну', 'вот', 'это', 'всё', 'время', 'вспоминать', 'я', 'он', 'подарить', 'но', 'не', 'такой', 'цветок', 'чтоб', 'вот', 'роза', 'что', 'но', 'именно', 'это', 'как', 'они', 'называться', 'маленький', 'ну', 'так', 'бордовый', 'гвоздик', 'вот', 'мочь', 'вспомнить', 'слово', 'потому', 'что', 'я', 'они', 'до', 'сей', 'пора', 'любить', 'я', 'говорить', 'я', 'не', 'надо', 'никакой', 'роза', 'гвоздик', 'они', 'знать', 'уже', 'про', 'что', 'это', 'тогда', 'ты', 'вон', 'подарить', 'а', 'сейчас']\n"
          ]
        }
      ]
    },
    {
      "cell_type": "code",
      "source": [
        "len(lemmatized)"
      ],
      "metadata": {
        "colab": {
          "base_uri": "https://localhost:8080/"
        },
        "id": "1wqiDq2J8RC2",
        "outputId": "5375b3a2-5cd2-4bf7-fda4-a83548d9167d"
      },
      "execution_count": null,
      "outputs": [
        {
          "output_type": "execute_result",
          "data": {
            "text/plain": [
              "210"
            ]
          },
          "metadata": {},
          "execution_count": 215
        }
      ]
    },
    {
      "cell_type": "code",
      "source": [
        "get_percent_pronouns(get_pronouns())"
      ],
      "metadata": {
        "colab": {
          "base_uri": "https://localhost:8080/"
        },
        "id": "MCE3I9DZmfrq",
        "outputId": "f58c8fe1-236b-45b2-ebbb-14362c385b38"
      },
      "execution_count": null,
      "outputs": [
        {
          "output_type": "execute_result",
          "data": {
            "text/plain": [
              "0.1761904761904762"
            ]
          },
          "metadata": {},
          "execution_count": 216
        }
      ]
    },
    {
      "cell_type": "code",
      "source": [
        "get_pronouns_nouns()"
      ],
      "metadata": {
        "colab": {
          "base_uri": "https://localhost:8080/"
        },
        "id": "7nkFFbaf6OEK",
        "outputId": "2ce996ee-4b95-42fc-bc9a-6eab7051b45f"
      },
      "execution_count": null,
      "outputs": [
        {
          "output_type": "execute_result",
          "data": {
            "text/plain": [
              "1.088235294117647"
            ]
          },
          "metadata": {},
          "execution_count": 217
        }
      ]
    },
    {
      "cell_type": "code",
      "source": [
        "get_percent_conj(get_conj())"
      ],
      "metadata": {
        "id": "R-yngl8VnEPY"
      },
      "execution_count": null,
      "outputs": []
    },
    {
      "cell_type": "code",
      "source": [
        "freq_words()"
      ],
      "metadata": {
        "id": "UecL715gnumH"
      },
      "execution_count": null,
      "outputs": []
    },
    {
      "cell_type": "code",
      "source": [
        "freq_log()"
      ],
      "metadata": {
        "colab": {
          "base_uri": "https://localhost:8080/"
        },
        "id": "ymZL_jmqoSo_",
        "outputId": "0381bd07-d48c-496d-cab9-c837c2fafa4a"
      },
      "execution_count": null,
      "outputs": [
        {
          "output_type": "execute_result",
          "data": {
            "text/plain": [
              "5.766907896209802"
            ]
          },
          "metadata": {},
          "execution_count": 220
        }
      ]
    }
  ]
}